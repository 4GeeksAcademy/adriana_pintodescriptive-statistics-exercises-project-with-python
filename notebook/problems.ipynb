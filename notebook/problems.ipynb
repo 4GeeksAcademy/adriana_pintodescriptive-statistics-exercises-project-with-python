{
    "cells": [
        {
            "cell_type": "markdown",
            "id": "ac622319",
            "metadata": {},
            "source": [
                "# Descriptive statistics problems"
            ]
        },
        {
            "cell_type": "markdown",
            "id": "5e0ab0d5",
            "metadata": {},
            "source": [
                "### Exercise 1\n",
                "\n",
                "We will use NumPy to obtain information to describe statistically.\n",
                "\n",
                "- Generate an array of 100 elements following a normal distribution.\n",
                "- Generate an array of 100 elements following a chi-square distribution with 3 degrees of freedom.\n",
                "- Calculate the main metrics and statistical measures that best describe the two vectors."
            ]
        },
        {
            "cell_type": "code",
            "execution_count": 3,
            "id": "34720ab6",
            "metadata": {},
            "outputs": [
                {
                    "data": {
                        "text/plain": [
                            "(np.float64(10.1211657041514),\n",
                            " np.float64(1.77031242766317),\n",
                            " np.float64(13.248690727326483),\n",
                            " np.float64(3.1656627187259256))"
                        ]
                    },
                    "execution_count": 3,
                    "metadata": {},
                    "output_type": "execute_result"
                }
            ],
            "source": [
                "# TODO\n",
                "import numpy as np\n",
                "import statistics as stats\n",
                "\n",
                "np.random.seed(1)\n",
                "#loc \n",
                "#scale\n",
                "\n",
                "# Generar datos de una normal con media=0 y sigma=1\n",
                "data_normal = np.random.normal(loc=10, scale=2, size=100)\n",
                "\n",
                "data_chi = np.random.chisquare(df=3, size=100)\n",
                "\n",
                "media_normal = np.mean(data_normal)\n",
                "std_normal = np.std(data_normal)\n",
                "moda_normal = stats.mode(data_normal)\n",
                "var_normal = stats.variance(data_normal)\n",
                "\n",
                "media_normal, std_normal, moda_normal, var_normal\n",
                "\n"
            ]
        },
        {
            "cell_type": "code",
            "execution_count": 13,
            "id": "2765e542",
            "metadata": {},
            "outputs": [
                {
                    "data": {
                        "text/plain": [
                            "(np.float64(9.955229786459928), np.float64(2.012521302606915))"
                        ]
                    },
                    "execution_count": 13,
                    "metadata": {},
                    "output_type": "execute_result"
                }
            ],
            "source": [
                "np.random.seed(1)\n",
                "\n",
                "data_chi2 = np.random.chisquare(df=3, size=100)\n",
                "media_normal = np.mean(data_normal)\n",
                "std_normal = np.std(data_normal)\n",
                "\n",
                "media_normal , std_normal"
            ]
        },
        {
            "cell_type": "code",
            "execution_count": 4,
            "id": "4a1afc0d",
            "metadata": {},
            "outputs": [
                {
                    "data": {
                        "text/plain": [
                            "[<matplotlib.lines.Line2D at 0x77286686bfd0>]"
                        ]
                    },
                    "execution_count": 4,
                    "metadata": {},
                    "output_type": "execute_result"
                },
                {
                    "data": {
                        "image/png": "[encoded data removed]",
                        "text/plain": [
                            "<Figure size 640x480 with 1 Axes>"
                        ]
                    },
                    "metadata": {},
                    "output_type": "display_data"
                }
            ],
            "source": [
                "#Graficar la distribucion#\n",
                "\n",
                "import numpy as np\n",
                "import scipy.stats as stats\n",
                "import matplotlib.pyplot as plt\n",
                "\n",
                "np.random.seed(1)\n",
                "\n",
                "data_normal= np.random.normal(loc=0, scale=1, size=100)\n",
                "\n",
                "plt.hist(data_normal, bins=30, density=True, alpha=0.6, color='blue', edgecolor='black')\n",
                "\n",
                "# Superponer la PDF de la normal teórica\n",
                "x = np.linspace(-4, 4, 100)\n",
                "pdf = stats.norm.pdf(x, loc=0, scale=1)\n",
                "plt.plot(x, pdf, 'r', linewidth=2)\n",
                "\n",
                "# Superponer la PDF de la normal teórica\n",
                "x = np.linspace(-4, 4, 1000)\n",
                "pdf = stats.norm.pdf(x, loc=0, scale=1)\n",
                "plt.plot(x, pdf, 'r', linewidth=2)\n",
                "\n",
                "\n"
            ]
        },
        {
            "cell_type": "markdown",
            "id": "46c70c3d",
            "metadata": {},
            "source": [
                "### Exercise 2\n",
                "\n",
                "Write a Python program to calculate the standard deviation of the following data:\n",
                "\n",
                "```py\n",
                "data = [4, 2, 5, 8, 6]\n",
                "```"
            ]
        },
        {
            "cell_type": "code",
            "execution_count": 3,
            "id": "d590308e",
            "metadata": {},
            "outputs": [
                {
                    "data": {
                        "text/plain": [
                            "np.float64(2.0)"
                        ]
                    },
                    "execution_count": 3,
                    "metadata": {},
                    "output_type": "execute_result"
                }
            ],
            "source": [
                "# TODO\n",
                "import numpy as np\n",
                "\n",
                "data = [4, 2, 5, 8, 6]\n",
                "\n",
                "# Cálculo de la media \n",
                "media = np.mean(data)\n",
                "\n",
                "#desviación estándar\n",
                "desviacion_std = np.std(data)\n",
                "\n",
                "desviacion_std"
            ]
        }
    ],
    "metadata": {
        "kernelspec": {
            "display_name": "Python 3",
            "language": "python",
            "name": "python3"
        },
        "language_info": {
            "codemirror_mode": {
                "name": "ipython",
                "version": 3
            },
            "file_extension": ".py",
            "mimetype": "text/x-python",
            "name": "python",
            "nbconvert_exporter": "python",
            "pygments_lexer": "ipython3",
            "version": "3.11.4"
        }
    },
    "nbformat": 4,
    "nbformat_minor": 5
}
